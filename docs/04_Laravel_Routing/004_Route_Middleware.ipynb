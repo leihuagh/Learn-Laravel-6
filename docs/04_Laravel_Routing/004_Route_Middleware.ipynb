{
 "cells": [
  {
   "cell_type": "markdown",
   "metadata": {},
   "source": [
    "# Route Middleware"
   ]
  },
  {
   "cell_type": "markdown",
   "metadata": {},
   "source": [
    "## Description"
   ]
  },
  {
   "cell_type": "markdown",
   "metadata": {},
   "source": [
    "- Middleware allows us to perform some action before or after executing the route. \n",
    "- For example, \n",
    "    - If a user needs to access a protected page then you can use the `auth` middleware to check if the user is logged in. \n",
    "        - If yes then you allow access \n",
    "        - Else the user is redirected to a login page."
   ]
  },
  {
   "cell_type": "markdown",
   "metadata": {},
   "source": [
    "## Example"
   ]
  },
  {
   "cell_type": "markdown",
   "metadata": {},
   "source": [
    "### Two Basic Middleware Classess: `BeforeMiddleware` and `AfterMiddleware`"
   ]
  },
  {
   "cell_type": "markdown",
   "metadata": {},
   "source": [
    "- `BeforeMiddleware` will execute before the route\n",
    "- `AfterMiddleware`will execute after the route."
   ]
  },
  {
   "cell_type": "markdown",
   "metadata": {},
   "source": [
    "### Creating"
   ]
  },
  {
   "cell_type": "markdown",
   "metadata": {},
   "source": [
    "- In `cmder`\n",
    "\n",
    "```shell\n",
    "cd mystore\n",
    "php artisan make:middleware BeforeMiddleware\n",
    "php artisan make:middleware AfterMiddleware\n",
    "```"
   ]
  },
  {
   "cell_type": "markdown",
   "metadata": {},
   "source": [
    "### Fill-in Middleware Classes"
   ]
  },
  {
   "cell_type": "markdown",
   "metadata": {},
   "source": [
    "#### `BeforeMiddleware` class"
   ]
  },
  {
   "cell_type": "markdown",
   "metadata": {},
   "source": [
    "- In VSC, edit file `kodeblog\\mystore\\app\\Http\\Middleware\\BeforeMiddleware.php`"
   ]
  },
  {
   "cell_type": "markdown",
   "metadata": {},
   "source": [
    "<img src='images/004/001.png' alt='implement before middleware' style='float: left;'>"
   ]
  },
  {
   "cell_type": "markdown",
   "metadata": {},
   "source": [
    "#### `AfterMiddleware`"
   ]
  },
  {
   "cell_type": "markdown",
   "metadata": {},
   "source": [
    "- In VSC, edit file `kodeblog\\mystore\\app\\Http\\Middleware\\AfterMiddleware.php`"
   ]
  },
  {
   "cell_type": "markdown",
   "metadata": {},
   "source": [
    "<img src='images/004/002.png' alt='implement after middleware' style='float: left;'>"
   ]
  },
  {
   "cell_type": "markdown",
   "metadata": {},
   "source": [
    "### Register Custom Middleware Classes"
   ]
  },
  {
   "cell_type": "markdown",
   "metadata": {},
   "source": [
    "- In VSC, open file `kodeblog\\mystore\\app\\Http\\Kernel.php`\n",
    "- Register `before` and `after` in list `$routeMiddleware`"
   ]
  },
  {
   "cell_type": "markdown",
   "metadata": {},
   "source": [
    "<img src='images/004/003.png' alt='register custom middleware classes' style='float: left;'>"
   ]
  },
  {
   "cell_type": "markdown",
   "metadata": {},
   "source": [
    "### Create Routes for `BeforeMiddleware` and `AfterMiddleware` "
   ]
  },
  {
   "cell_type": "markdown",
   "metadata": {},
   "source": [
    "- In VSC, open file `kodeblog\\mystore\\routes\\web.php`\n",
    "- Add two routes"
   ]
  },
  {
   "cell_type": "markdown",
   "metadata": {},
   "source": [
    "<img src='images/004/004.png' alt='routes to before and after middleware' style='float: left;'>"
   ]
  },
  {
   "cell_type": "markdown",
   "metadata": {},
   "source": [
    "### Testing"
   ]
  },
  {
   "cell_type": "markdown",
   "metadata": {},
   "source": [
    "#### Test `before` Middleware"
   ]
  },
  {
   "cell_type": "markdown",
   "metadata": {},
   "source": [
    "```url\n",
    "http://127.0.0.1:8000/admin\n",
    "```"
   ]
  },
  {
   "cell_type": "markdown",
   "metadata": {},
   "source": [
    "<img src='images/004/005.png' alt='rendering admin route access before middleware' style='float: left;'>"
   ]
  },
  {
   "cell_type": "markdown",
   "metadata": {},
   "source": [
    "#### Test `after` Middleware"
   ]
  },
  {
   "cell_type": "markdown",
   "metadata": {},
   "source": [
    "```url\n",
    "http://localhost:8000/analytics\n",
    "```"
   ]
  },
  {
   "cell_type": "markdown",
   "metadata": {},
   "source": [
    "<img src='images/004/006.png' alt='rendering analytics route access after middleware' style='float: left;'>"
   ]
  },
  {
   "cell_type": "markdown",
   "metadata": {},
   "source": [
    "### Combied Middleware"
   ]
  },
  {
   "cell_type": "markdown",
   "metadata": {},
   "source": [
    "#### Creating Route"
   ]
  },
  {
   "cell_type": "markdown",
   "metadata": {},
   "source": [
    "- In VSC, open file `kodeblog\\mystore\\routes\\web.php`\n",
    "- Add combined middleware route"
   ]
  },
  {
   "cell_type": "markdown",
   "metadata": {},
   "source": [
    "<img src='images/004/007.png' alt='route to combined middleware' style='float: left;'>"
   ]
  },
  {
   "cell_type": "markdown",
   "metadata": {},
   "source": [
    "#### Testing"
   ]
  },
  {
   "cell_type": "markdown",
   "metadata": {},
   "source": [
    "```url\n",
    "http://localhost:8000/statistics\n",
    "```"
   ]
  },
  {
   "cell_type": "markdown",
   "metadata": {},
   "source": [
    "<img src='images/004/008.png' alt='rendering of route to combined middleware' style='float: left;'>"
   ]
  },
  {
   "cell_type": "markdown",
   "metadata": {},
   "source": [
    "## Commit Step"
   ]
  },
  {
   "cell_type": "code",
   "execution_count": null,
   "metadata": {},
   "outputs": [],
   "source": []
  }
 ],
 "metadata": {
  "kernelspec": {
   "display_name": "Python 3",
   "language": "python",
   "name": "python3"
  },
  "language_info": {
   "codemirror_mode": {
    "name": "ipython",
    "version": 3
   },
   "file_extension": ".py",
   "mimetype": "text/x-python",
   "name": "python",
   "nbconvert_exporter": "python",
   "pygments_lexer": "ipython3",
   "version": "3.7.4"
  }
 },
 "nbformat": 4,
 "nbformat_minor": 2
}
